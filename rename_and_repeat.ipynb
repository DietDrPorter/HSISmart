{
  "nbformat": 4,
  "nbformat_minor": 0,
  "metadata": {
    "colab": {
      "name": "rename_and_repeat.ipynb",
      "provenance": [],
      "authorship_tag": "ABX9TyMl3vZdCOpliGJ+2M/HcjoX",
      "include_colab_link": true
    },
    "kernelspec": {
      "name": "python3",
      "display_name": "Python 3"
    },
    "language_info": {
      "name": "python"
    }
  },
  "cells": [
    {
      "cell_type": "markdown",
      "metadata": {
        "id": "view-in-github",
        "colab_type": "text"
      },
      "source": [
        "<a href=\"https://colab.research.google.com/github/DietDrPorter/HSISmart/blob/main/rename_and_repeat.ipynb\" target=\"_parent\"><img src=\"https://colab.research.google.com/assets/colab-badge.svg\" alt=\"Open In Colab\"/></a>"
      ]
    },
    {
      "cell_type": "code",
      "metadata": {
        "id": "lI8zcydjz-is"
      },
      "source": [
        "import pandas as pd\n",
        "import numpy as np\n",
        "import re\n",
        "#input path to the excel sheet you want to below in the '' \n",
        "#to upload the excel sheet you want to use, click the file with the up arrow in the left window\n",
        "df_master = pd.read_excel('/content/TestSheetMaster.xlsx')\n",
        "df_q = pd.read_excel('/content/SMART STEM Workshop Questionnaire_July 29, 2021_13.21 (1).xlsx') #replace with the file you want to run\n",
        "#Uncomment the line below if you want to see the original dataframe\n",
        "#print(df_master)\n",
        "#In the function below choose which columns you want to rename 'IDQ2' or 'Random Id', you can add or remove columns as you like \n",
        "#choose the new name you want 'IDQ2\" to be, it is currently 'newName1', 'Random ID' is currently 'newName2'\n",
        "df_master.rename(columns={'IDQ2': 'newName1', 'Random ID': 'newName2'}, inplace=True)\n",
        "#uncomment the line below if you want to see the dataframe with the new names\n",
        "#print(df_master)\n",
        "#print(df_q)\n",
        "df_q['RepeatedAttempts'] = df_q.duplicated(subset=['IPAddress']) #replace IPAddress with the column you want to see is duplicated (ex. Random ID)\n",
        "i = df_q[df_q.RepeatedAttempts == False].index\n",
        "df_q = df_q.drop(i)\n",
        "#print(df_q)\n",
        "j = df_q[df_q.Progress == 100].index\n",
        "df_q = df_q.drop(j)\n",
        "#print(df_q)\n",
        "df_q.to_excel('RepeatedAttempts.xlsx')"
      ],
      "execution_count": null,
      "outputs": []
    }
  ]
}