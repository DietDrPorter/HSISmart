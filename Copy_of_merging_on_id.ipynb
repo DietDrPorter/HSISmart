{
  "nbformat": 4,
  "nbformat_minor": 0,
  "metadata": {
    "colab": {
      "name": "Copy of merging_on_id.ipynb",
      "provenance": [],
      "collapsed_sections": [],
      "authorship_tag": "ABX9TyOByJpVFjtdtCVxTdkXQaEI",
      "include_colab_link": true
    },
    "kernelspec": {
      "name": "python3",
      "display_name": "Python 3"
    },
    "language_info": {
      "name": "python"
    }
  },
  "cells": [
    {
      "cell_type": "markdown",
      "metadata": {
        "id": "view-in-github",
        "colab_type": "text"
      },
      "source": [
        "<a href=\"https://colab.research.google.com/github/DietDrPorter/HSISmart/blob/MergingOnIds/Copy_of_merging_on_id.ipynb\" target=\"_parent\"><img src=\"https://colab.research.google.com/assets/colab-badge.svg\" alt=\"Open In Colab\"/></a>"
      ]
    },
    {
      "cell_type": "code",
      "metadata": {
        "id": "RNQubEQ0o4cO"
      },
      "source": [
        "import pandas as pd\n",
        "import numpy as np\n",
        "import re"
      ],
      "execution_count": null,
      "outputs": []
    },
    {
      "cell_type": "code",
      "metadata": {
        "id": "2mwr2fBdqwf3"
      },
      "source": [
        "df_master = pd.read_excel('/content/TestSheetMaster.xlsx') #replace with the path to the master datasheet"
      ],
      "execution_count": null,
      "outputs": []
    },
    {
      "cell_type": "code",
      "metadata": {
        "id": "NikZ_OVVq77t"
      },
      "source": [
        "df_q = pd.read_excel('/content/TestSheet.xlsx') #replace with the path to the STEM questionnaire datashet\n",
        "swq_df = df_q.add_prefix('swq_')\n"
      ],
      "execution_count": null,
      "outputs": []
    },
    {
      "cell_type": "code",
      "metadata": {
        "id": "3XVqZ_lDiQ1o"
      },
      "source": [
        "#Currently merging based on the Response Id in the questionnaire, replace swq_ResponseId with the Random ID column name from the questionnaire sheet\n",
        "df_master = df_master.merge(swq_df, left_on='Random ID', right_on='swq_ResponseId', how='outer', indicator=True) "
      ],
      "execution_count": null,
      "outputs": []
    },
    {
      "cell_type": "code",
      "metadata": {
        "colab": {
          "base_uri": "https://localhost:8080/"
        },
        "id": "WbT-IOABxzAc",
        "outputId": "800521e1-0929-4419-945b-0bafa1101b9e"
      },
      "source": [
        "df_master['Master Subject Id'] = np.where(df_master['_merge'] == 'right_only', '99999', df_master['Master Subject Id'])\n",
        "df_new_master = df_master.drop(columns=['_merge']) \n",
        "df_new_master.to_excel(\"MasterDataSheet.xlsx\") #replace with the name you would like the updated master sheet to be"
      ],
      "execution_count": null,
      "outputs": [
        {
          "output_type": "stream",
          "text": [
            "  IDQ2     Random ID Master Subject Id  swq_RecordedDate     swq_ResponseId\n",
            "0  yes  197831432241               1.0               1.0       197831432241\n",
            "1  yes  948046551202               2.0               2.0       948046551202\n",
            "2  yes  268865912081               3.0               3.0       268865912081\n",
            "3  yes  361989944917               4.0               NaN                NaN\n",
            "4  yes  576487921481               5.0               NaN                NaN\n",
            "5  yes  462528740894               6.0               NaN                NaN\n",
            "6  NaN           NaN             99999               NaN  R_26mNfTzIzDiw1ix\n",
            "7  NaN           NaN             99999               NaN                  0\n"
          ],
          "name": "stdout"
        }
      ]
    }
  ]
}