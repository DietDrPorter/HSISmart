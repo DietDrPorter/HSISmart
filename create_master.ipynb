{
  "nbformat": 4,
  "nbformat_minor": 0,
  "metadata": {
    "colab": {
      "name": "create_master.ipynb",
      "provenance": [],
      "mount_file_id": "1pbRPht_S2FlWs24vcxiausQQZny6R44x",
      "authorship_tag": "ABX9TyNuH8WmoDYyc8j/8fbEHYav",
      "include_colab_link": true
    },
    "kernelspec": {
      "name": "python3",
      "display_name": "Python 3"
    },
    "language_info": {
      "name": "python"
    }
  },
  "cells": [
    {
      "cell_type": "markdown",
      "metadata": {
        "id": "view-in-github",
        "colab_type": "text"
      },
      "source": [
        "<a href=\"https://colab.research.google.com/github/DietDrPorter/HSISmart/blob/CreateMasterSheet/create_master.ipynb\" target=\"_parent\"><img src=\"https://colab.research.google.com/assets/colab-badge.svg\" alt=\"Open In Colab\"/></a>"
      ]
    },
    {
      "cell_type": "code",
      "metadata": {
        "colab": {
          "base_uri": "https://localhost:8080/"
        },
        "id": "ABwMpjpLalgk",
        "outputId": "2de9fc39-95b6-4d44-d6c5-ab7283c84d47"
      },
      "source": [
        "import pandas as pd\n",
        "import numpy as np\n",
        " \n",
        "#Creating master spreadsheet by merging two spreadsheets. The spreadsheets will be declared as dataframe objects, which just makes it able\n",
        "#for pandas (a Python library) to work with.\n",
        " \n",
        "#when called, the make_id function assigns a number beginning with 1 to a row\n",
        "def make_id(df):\n",
        "    id = df.apply(lambda x: '_'.join(map(str,x)), axis = 1)\n",
        "    # factorize makes sure an id repeats if values inputed are the same, in this case if name and birthday are the same, the id repeats\n",
        "    return pd.factorize(id)[0]\n",
        " \n",
        "#input name of one of your spreadsheets where it says dataset.xlsx\n",
        "df = pd.read_excel(\"/content/drive/MyDrive/HSISmart/dataset.xlsx\")\n",
        "#input name of your next spreadsheet where it says test.xlsx\n",
        "df_test = pd.read_excel(\"/content/drive/MyDrive/HSISmart/test.xlsx\")\n",
        " \n",
        "#calling the make_id function\n",
        "#Q294 and Q297 are the columns being read in to determine if an id will repeat, you can change these to be different columns\n",
        "#by inputting the column where those values are below ('Q294' and 'Q297')\n",
        "df['Master Subject Id'] = make_id(df[['Q294','Q297']])\n",
        " \n",
        "#the line below is merging the two datasets based on if the birthday and name column match, then creating the dataframe\n",
        "#that represents the master spreadsheet\n",
        "#if you want to change the value or column or key the dataframes are merging on, change the value for 'Q294' and 'Q297;\n",
        "#these are the column names for name and birthday\n",
        "df3 = pd.merge(df, df_test, on=['Q294', 'Q297'], how='outer')\n",
        " \n",
        "df3['Q294'].replace(\"\", np.nan, inplace=True)\n",
        "#the line below will output the number of rows with empty values in the dataset\n",
        "print(df3['Q294'].isna().sum())\n",
        "#removes rows if they have no value for name column\n",
        "df3 = df3.dropna(axis=0, subset=['Q294'])\n",
        " \n",
        "#the line below converts the master dataframe into an excel file\n",
        "#you can change the file name by changing the value for output\n",
        "#you can also change which columns you want to display in the master spreadsheet by addding or removing column names in the columns=[]\n",
        "#df3.to_excel(\"output.xlsx\", columns=['Random ID','Master Subject Id_x','Q294', 'Q297', 'Email1_x'])\n",
        "df3.to_excel(\"output.xlsx\", columns=['Random ID_x','Master Subject Id_x','Q294', 'Q297', 'Email1_x'])"
      ],
      "execution_count": null,
      "outputs": [
        {
          "output_type": "stream",
          "text": [
            "8281\n"
          ],
          "name": "stdout"
        }
      ]
    }
  ]
}