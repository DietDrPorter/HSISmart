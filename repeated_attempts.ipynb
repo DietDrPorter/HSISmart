{
  "nbformat": 4,
  "nbformat_minor": 0,
  "metadata": {
    "colab": {
      "name": "repeated_attempts.ipynb",
      "provenance": [],
      "authorship_tag": "ABX9TyN9SSSEPwAjHmPw7Z98SB48",
      "include_colab_link": true
    },
    "kernelspec": {
      "name": "python3",
      "display_name": "Python 3"
    },
    "language_info": {
      "name": "python"
    }
  },
  "cells": [
    {
      "cell_type": "markdown",
      "metadata": {
        "id": "view-in-github",
        "colab_type": "text"
      },
      "source": [
        "<a href=\"https://colab.research.google.com/github/DietDrPorter/HSISmart/blob/main/repeated_attempts.ipynb\" target=\"_parent\"><img src=\"https://colab.research.google.com/assets/colab-badge.svg\" alt=\"Open In Colab\"/></a>"
      ]
    },
    {
      "cell_type": "code",
      "metadata": {
        "id": "1x6wdMze6GmX"
      },
      "source": [
        "import pandas as pd\n",
        "import numpy as np\n",
        "import re"
      ],
      "execution_count": 1,
      "outputs": []
    },
    {
      "cell_type": "code",
      "metadata": {
        "id": "jgSTb5rFTzjk"
      },
      "source": [
        "df_q = pd.read_excel('/content/SMART STEM Workshop Questionnaire_July 29, 2021_13.21 (1).xlsx') #replace with the file you want to run"
      ],
      "execution_count": 2,
      "outputs": []
    },
    {
      "cell_type": "code",
      "metadata": {
        "colab": {
          "base_uri": "https://localhost:8080/"
        },
        "id": "r-1Xm7U1T4sx",
        "outputId": "3301464b-8bfd-43de-c005-c8f23cb7d890"
      },
      "source": [
        "print(df_q)"
      ],
      "execution_count": 3,
      "outputs": [
        {
          "output_type": "stream",
          "name": "stdout",
          "text": [
            "                                             StartDate  ...                                               Q271\n",
            "0                                           Start Date  ...  What is your father's highest level of education?\n",
            "1    {\"ImportId\":\"startDate\",\"timeZone\":\"America/De...  ...                              {\"ImportId\":\"QID273\"}\n",
            "2                                  2020-08-14 14:09:54  ...                            high school diploma/GED\n",
            "3                                  2020-08-14 14:10:16  ...                                   some high school\n",
            "4                                  2020-08-14 22:02:07  ...                                   some high school\n",
            "..                                                 ...  ...                                                ...\n",
            "129                                2021-01-19 12:32:10  ...                                            unknown\n",
            "130                                2021-01-26 19:22:32  ...                                                NaN\n",
            "131                                2021-01-26 19:25:50  ...                                            unknown\n",
            "132                                2021-01-26 21:28:32  ...  graduate or professional degree (e.g. M.D., J....\n",
            "133                                2021-01-26 22:29:30  ...                                                NaN\n",
            "\n",
            "[134 rows x 73 columns]\n"
          ]
        }
      ]
    },
    {
      "cell_type": "code",
      "metadata": {
        "id": "_OSpDCrrO93y"
      },
      "source": [
        "df_q['RepeatedAttempts'] = df_q.duplicated(subset=['IPAddress']) #replace IPAddress with the column you want to see is duplicated (ex. Random ID)"
      ],
      "execution_count": 4,
      "outputs": []
    },
    {
      "cell_type": "code",
      "metadata": {
        "id": "kUDcL1AVdzui"
      },
      "source": [
        "i = df_q[df_q.RepeatedAttempts == False].index"
      ],
      "execution_count": 5,
      "outputs": []
    },
    {
      "cell_type": "code",
      "metadata": {
        "id": "gkwBnq25eC_J"
      },
      "source": [
        "df_q = df_q.drop(i)"
      ],
      "execution_count": 6,
      "outputs": []
    },
    {
      "cell_type": "code",
      "metadata": {
        "colab": {
          "base_uri": "https://localhost:8080/"
        },
        "id": "sFT86r51rya1",
        "outputId": "0c1e19c3-1a77-45d1-dac9-cbf2aef553f2"
      },
      "source": [
        "print(df_q)"
      ],
      "execution_count": 7,
      "outputs": [
        {
          "output_type": "stream",
          "name": "stdout",
          "text": [
            "               StartDate  ... RepeatedAttempts\n",
            "62   2020-08-15 12:37:56  ...             True\n",
            "65   2020-08-17 16:57:33  ...             True\n",
            "69   2020-08-15 11:53:02  ...             True\n",
            "86   2020-08-29 10:46:52  ...             True\n",
            "92   2020-08-31 12:07:32  ...             True\n",
            "94   2020-09-01 22:21:41  ...             True\n",
            "95   2020-09-01 22:22:18  ...             True\n",
            "96   2020-09-02 10:54:26  ...             True\n",
            "97   2020-09-02 14:17:12  ...             True\n",
            "103  2020-09-03 13:11:58  ...             True\n",
            "106  2020-09-03 23:13:03  ...             True\n",
            "110  2020-09-04 11:41:44  ...             True\n",
            "111  2020-09-04 10:56:54  ...             True\n",
            "122  2020-09-05 00:48:46  ...             True\n",
            "125  2020-09-04 18:47:19  ...             True\n",
            "132  2021-01-26 21:28:32  ...             True\n",
            "\n",
            "[16 rows x 74 columns]\n"
          ]
        }
      ]
    },
    {
      "cell_type": "code",
      "metadata": {
        "id": "I_w42nxwsZha"
      },
      "source": [
        "j = df_q[df_q.Progress == 100].index "
      ],
      "execution_count": 8,
      "outputs": []
    },
    {
      "cell_type": "code",
      "metadata": {
        "id": "WLUwj-0eyEat"
      },
      "source": [
        "df_q = df_q.drop(j)"
      ],
      "execution_count": 9,
      "outputs": []
    },
    {
      "cell_type": "code",
      "metadata": {
        "colab": {
          "base_uri": "https://localhost:8080/"
        },
        "id": "e6TLN1XCyG5F",
        "outputId": "48b872a0-721f-4bb3-c42b-1803794403e6"
      },
      "source": [
        "print(df_q)"
      ],
      "execution_count": 10,
      "outputs": [
        {
          "output_type": "stream",
          "name": "stdout",
          "text": [
            "               StartDate              EndDate  ... Q271 RepeatedAttempts\n",
            "69   2020-08-15 11:53:02  2020-08-15 11:59:08  ...  NaN             True\n",
            "125  2020-09-04 18:47:19  2020-09-04 18:47:38  ...  NaN             True\n",
            "\n",
            "[2 rows x 74 columns]\n"
          ]
        }
      ]
    },
    {
      "cell_type": "code",
      "metadata": {
        "id": "J8znaecbeXqR"
      },
      "source": [
        "df_q.to_excel('RepeatedAttempts.xlsx')"
      ],
      "execution_count": 11,
      "outputs": []
    }
  ]
}