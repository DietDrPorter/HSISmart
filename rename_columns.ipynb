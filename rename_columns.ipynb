{
  "nbformat": 4,
  "nbformat_minor": 0,
  "metadata": {
    "colab": {
      "name": "rename_columns.ipynb",
      "provenance": [],
      "authorship_tag": "ABX9TyP88imSqiJCbkqb8F9MgVSr",
      "include_colab_link": true
    },
    "kernelspec": {
      "name": "python3",
      "display_name": "Python 3"
    },
    "language_info": {
      "name": "python"
    }
  },
  "cells": [
    {
      "cell_type": "markdown",
      "metadata": {
        "id": "view-in-github",
        "colab_type": "text"
      },
      "source": [
        "<a href=\"https://colab.research.google.com/github/DietDrPorter/HSISmart/blob/main/rename_columns.ipynb\" target=\"_parent\"><img src=\"https://colab.research.google.com/assets/colab-badge.svg\" alt=\"Open In Colab\"/></a>"
      ]
    },
    {
      "cell_type": "code",
      "metadata": {
        "id": "fH8N8BIWPgy0"
      },
      "source": [
        "import pandas as pd"
      ],
      "execution_count": 1,
      "outputs": []
    },
    {
      "cell_type": "code",
      "metadata": {
        "id": "YFqhu6M6XJ6B"
      },
      "source": [
        "#input path to the excel sheet you want to below in the '' \n",
        "#to upload the excel sheet you want to use, click the file with the up arrow in the left window\n",
        "df_master = pd.read_excel('/content/TestSheetMaster.xlsx') "
      ],
      "execution_count": 5,
      "outputs": []
    },
    {
      "cell_type": "code",
      "metadata": {
        "colab": {
          "base_uri": "https://localhost:8080/"
        },
        "id": "e4DnKKNjZzEE",
        "outputId": "cb718bd3-74e6-439a-8c54-3dd988cdf537"
      },
      "source": [
        "#Uncomment the line below if you want to see the original dataframe\n",
        "#print(df_master) "
      ],
      "execution_count": 4,
      "outputs": [
        {
          "output_type": "stream",
          "text": [
            "  IDQ2     Random ID  Master Subject Id\n",
            "0  yes  197831432241                  1\n",
            "1  yes  948046551202                  2\n",
            "2  yes  268865912081                  3\n",
            "3  yes  361989944917                  4\n",
            "4  yes  576487921481                  5\n",
            "5  yes  462528740894                  6\n"
          ],
          "name": "stdout"
        }
      ]
    },
    {
      "cell_type": "code",
      "metadata": {
        "colab": {
          "base_uri": "https://localhost:8080/",
          "height": 195
        },
        "id": "pKDgPC961IiM",
        "outputId": "bc7f9232-3c7d-4d44-80d4-9909c238fbfb"
      },
      "source": [
        "#In the function below choose which columns you want to rename 'IDQ2' or 'Random Id', you can add or remove columns as you like \n",
        "#choose the new name you want 'IDQ2\" to be, it is currently 'newName1', 'Random ID' is currently 'newName2'\n",
        "df_master.rename(columns={'IDQ2': 'newName1', 'Random ID': 'newName2'}, inplace=True)"
      ],
      "execution_count": 1,
      "outputs": [
        {
          "output_type": "error",
          "ename": "NameError",
          "evalue": "ignored",
          "traceback": [
            "\u001b[0;31m---------------------------------------------------------------------------\u001b[0m",
            "\u001b[0;31mNameError\u001b[0m                                 Traceback (most recent call last)",
            "\u001b[0;32m<ipython-input-1-8985e667218d>\u001b[0m in \u001b[0;36m<module>\u001b[0;34m()\u001b[0m\n\u001b[1;32m      1\u001b[0m \u001b[0;31m#In the function below choose which columns you want to rename 'IDQ2' or 'Random Id', you can add or remove columns as you like\u001b[0m\u001b[0;34m\u001b[0m\u001b[0;34m\u001b[0m\u001b[0;34m\u001b[0m\u001b[0m\n\u001b[1;32m      2\u001b[0m \u001b[0;31m#choose the new name you want 'IDQ2\" to be, it is currently 'newName1', 'Random ID' is currently 'newName2'\u001b[0m\u001b[0;34m\u001b[0m\u001b[0;34m\u001b[0m\u001b[0;34m\u001b[0m\u001b[0m\n\u001b[0;32m----> 3\u001b[0;31m \u001b[0mdf_master\u001b[0m\u001b[0;34m.\u001b[0m\u001b[0mrename\u001b[0m\u001b[0;34m(\u001b[0m\u001b[0mcolumns\u001b[0m\u001b[0;34m=\u001b[0m\u001b[0;34m{\u001b[0m\u001b[0;34m'IDQ2'\u001b[0m\u001b[0;34m:\u001b[0m \u001b[0;34m'newName1'\u001b[0m\u001b[0;34m,\u001b[0m \u001b[0;34m'Random ID'\u001b[0m\u001b[0;34m:\u001b[0m \u001b[0;34m'newName2'\u001b[0m\u001b[0;34m}\u001b[0m\u001b[0;34m,\u001b[0m \u001b[0minplace\u001b[0m\u001b[0;34m=\u001b[0m\u001b[0;32mTrue\u001b[0m\u001b[0;34m)\u001b[0m\u001b[0;34m\u001b[0m\u001b[0;34m\u001b[0m\u001b[0m\n\u001b[0m",
            "\u001b[0;31mNameError\u001b[0m: name 'df_master' is not defined"
          ]
        }
      ]
    },
    {
      "cell_type": "code",
      "metadata": {
        "colab": {
          "base_uri": "https://localhost:8080/"
        },
        "id": "vRQXbxbf3DOz",
        "outputId": "d25b7e04-981d-414d-c0eb-b13429879c63"
      },
      "source": [
        "#uncomment the line below if you want to see the dataframe with the new names\n",
        "#print(df_master)"
      ],
      "execution_count": 7,
      "outputs": [
        {
          "output_type": "stream",
          "text": [
            "  newName1      newName2  Master Subject Id\n",
            "0      yes  197831432241                  1\n",
            "1      yes  948046551202                  2\n",
            "2      yes  268865912081                  3\n",
            "3      yes  361989944917                  4\n",
            "4      yes  576487921481                  5\n",
            "5      yes  462528740894                  6\n"
          ],
          "name": "stdout"
        }
      ]
    }
  ]
}